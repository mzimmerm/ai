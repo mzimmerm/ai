{
 "cells": [
  {
   "cell_type": "markdown",
   "metadata": {
    "id": "5bqd-PN9iEWZ",
    "tags": []
   },
   "source": [
    "# 1. Pip install packages"
   ]
  },
  {
   "cell_type": "code",
   "execution_count": 1,
   "metadata": {
    "colab": {
     "base_uri": "https://localhost:8080/"
    },
    "id": "nCFiAJ55LcLt",
    "outputId": "3fda2c9d-740d-4713-83c8-e23aaf86f411",
    "scrolled": true
   },
   "outputs": [
    {
     "name": "stdout",
     "output_type": "stream",
     "text": [
      "Requirement already satisfied: transformers in /home/mzimmermann/software/python/venv3.6-for-ai-rocm/lib/python3.6/site-packages (4.18.0)\n",
      "Requirement already satisfied: pyyaml>=5.1 in /home/mzimmermann/software/python/venv3.6-for-ai-rocm/lib/python3.6/site-packages (from transformers) (6.0.1)\n",
      "Requirement already satisfied: regex!=2019.12.17 in /home/mzimmermann/software/python/venv3.6-for-ai-rocm/lib/python3.6/site-packages (from transformers) (2023.8.8)\n",
      "Requirement already satisfied: sacremoses in /home/mzimmermann/software/python/venv3.6-for-ai-rocm/lib/python3.6/site-packages (from transformers) (0.0.53)\n",
      "Requirement already satisfied: tokenizers!=0.11.3,<0.13,>=0.11.1 in /home/mzimmermann/software/python/venv3.6-for-ai-rocm/lib/python3.6/site-packages (from transformers) (0.12.1)\n",
      "Requirement already satisfied: filelock in /home/mzimmermann/software/python/venv3.6-for-ai-rocm/lib/python3.6/site-packages (from transformers) (3.4.1)\n",
      "Requirement already satisfied: dataclasses in /home/mzimmermann/software/python/venv3.6-for-ai-rocm/lib/python3.6/site-packages (from transformers) (0.8)\n",
      "Requirement already satisfied: importlib-metadata in /home/mzimmermann/software/python/venv3.6-for-ai-rocm/lib/python3.6/site-packages (from transformers) (4.8.3)\n",
      "Requirement already satisfied: huggingface-hub<1.0,>=0.1.0 in /home/mzimmermann/software/python/venv3.6-for-ai-rocm/lib/python3.6/site-packages (from transformers) (0.4.0)\n",
      "Requirement already satisfied: requests in /home/mzimmermann/software/python/venv3.6-for-ai-rocm/lib/python3.6/site-packages (from transformers) (2.27.1)\n",
      "Requirement already satisfied: tqdm>=4.27 in /home/mzimmermann/software/python/venv3.6-for-ai-rocm/lib/python3.6/site-packages (from transformers) (4.64.1)\n",
      "Requirement already satisfied: numpy>=1.17 in /home/mzimmermann/software/python/venv3.6-for-ai-rocm/lib/python3.6/site-packages (from transformers) (1.19.5)\n",
      "Requirement already satisfied: packaging>=20.0 in /home/mzimmermann/software/python/venv3.6-for-ai-rocm/lib/python3.6/site-packages (from transformers) (21.3)\n",
      "Requirement already satisfied: typing-extensions>=3.7.4.3 in /home/mzimmermann/software/python/venv3.6-for-ai-rocm/lib/python3.6/site-packages (from huggingface-hub<1.0,>=0.1.0->transformers) (4.1.1)\n",
      "Requirement already satisfied: pyparsing!=3.0.5,>=2.0.2 in /home/mzimmermann/software/python/venv3.6-for-ai-rocm/lib/python3.6/site-packages (from packaging>=20.0->transformers) (3.1.2)\n",
      "Requirement already satisfied: importlib-resources in /home/mzimmermann/software/python/venv3.6-for-ai-rocm/lib/python3.6/site-packages (from tqdm>=4.27->transformers) (5.4.0)\n",
      "Requirement already satisfied: zipp>=0.5 in /home/mzimmermann/software/python/venv3.6-for-ai-rocm/lib/python3.6/site-packages (from importlib-metadata->transformers) (3.6.0)\n",
      "Requirement already satisfied: certifi>=2017.4.17 in /home/mzimmermann/software/python/venv3.6-for-ai-rocm/lib/python3.6/site-packages (from requests->transformers) (2024.2.2)\n",
      "Requirement already satisfied: charset-normalizer~=2.0.0 in /home/mzimmermann/software/python/venv3.6-for-ai-rocm/lib/python3.6/site-packages (from requests->transformers) (2.0.12)\n",
      "Requirement already satisfied: idna<4,>=2.5 in /home/mzimmermann/software/python/venv3.6-for-ai-rocm/lib/python3.6/site-packages (from requests->transformers) (3.6)\n",
      "Requirement already satisfied: urllib3<1.27,>=1.21.1 in /home/mzimmermann/software/python/venv3.6-for-ai-rocm/lib/python3.6/site-packages (from requests->transformers) (1.26.18)\n",
      "Requirement already satisfied: click in /home/mzimmermann/software/python/venv3.6-for-ai-rocm/lib/python3.6/site-packages (from sacremoses->transformers) (8.0.4)\n",
      "Requirement already satisfied: joblib in /home/mzimmermann/software/python/venv3.6-for-ai-rocm/lib/python3.6/site-packages (from sacremoses->transformers) (1.1.1)\n",
      "Requirement already satisfied: six in /home/mzimmermann/software/python/venv3.6-for-ai-rocm/lib/python3.6/site-packages (from sacremoses->transformers) (1.16.0)\n",
      "Requirement already satisfied: datasets in /home/mzimmermann/software/python/venv3.6-for-ai-rocm/lib/python3.6/site-packages (2.4.0)\n",
      "Requirement already satisfied: pyarrow>=6.0.0 in /home/mzimmermann/software/python/venv3.6-for-ai-rocm/lib/python3.6/site-packages (from datasets) (6.0.1)\n",
      "Requirement already satisfied: numpy>=1.17 in /home/mzimmermann/software/python/venv3.6-for-ai-rocm/lib/python3.6/site-packages (from datasets) (1.19.5)\n",
      "Requirement already satisfied: dill<0.3.6 in /home/mzimmermann/software/python/venv3.6-for-ai-rocm/lib/python3.6/site-packages (from datasets) (0.3.4)\n",
      "Requirement already satisfied: pandas in /home/mzimmermann/software/python/venv3.6-for-ai-rocm/lib/python3.6/site-packages (from datasets) (1.1.5)\n",
      "Requirement already satisfied: xxhash in /home/mzimmermann/software/python/venv3.6-for-ai-rocm/lib/python3.6/site-packages (from datasets) (3.2.0)\n",
      "Requirement already satisfied: responses<0.19 in /home/mzimmermann/software/python/venv3.6-for-ai-rocm/lib/python3.6/site-packages (from datasets) (0.17.0)\n",
      "Requirement already satisfied: importlib-metadata in /home/mzimmermann/software/python/venv3.6-for-ai-rocm/lib/python3.6/site-packages (from datasets) (4.8.3)\n",
      "Requirement already satisfied: tqdm>=4.62.1 in /home/mzimmermann/software/python/venv3.6-for-ai-rocm/lib/python3.6/site-packages (from datasets) (4.64.1)\n",
      "Requirement already satisfied: packaging in /home/mzimmermann/software/python/venv3.6-for-ai-rocm/lib/python3.6/site-packages (from datasets) (21.3)\n",
      "Requirement already satisfied: dataclasses in /home/mzimmermann/software/python/venv3.6-for-ai-rocm/lib/python3.6/site-packages (from datasets) (0.8)\n",
      "Requirement already satisfied: requests>=2.19.0 in /home/mzimmermann/software/python/venv3.6-for-ai-rocm/lib/python3.6/site-packages (from datasets) (2.27.1)\n",
      "Requirement already satisfied: huggingface-hub<1.0.0,>=0.1.0 in /home/mzimmermann/software/python/venv3.6-for-ai-rocm/lib/python3.6/site-packages (from datasets) (0.4.0)\n",
      "Requirement already satisfied: multiprocess in /home/mzimmermann/software/python/venv3.6-for-ai-rocm/lib/python3.6/site-packages (from datasets) (0.70.12.2)\n",
      "Requirement already satisfied: aiohttp in /home/mzimmermann/software/python/venv3.6-for-ai-rocm/lib/python3.6/site-packages (from datasets) (3.8.6)\n",
      "Requirement already satisfied: fsspec[http]>=2021.11.1 in /home/mzimmermann/software/python/venv3.6-for-ai-rocm/lib/python3.6/site-packages (from datasets) (2022.1.0)\n",
      "Requirement already satisfied: typing-extensions>=3.7.4.3 in /home/mzimmermann/software/python/venv3.6-for-ai-rocm/lib/python3.6/site-packages (from huggingface-hub<1.0.0,>=0.1.0->datasets) (4.1.1)\n",
      "Requirement already satisfied: pyyaml in /home/mzimmermann/software/python/venv3.6-for-ai-rocm/lib/python3.6/site-packages (from huggingface-hub<1.0.0,>=0.1.0->datasets) (6.0.1)\n",
      "Requirement already satisfied: filelock in /home/mzimmermann/software/python/venv3.6-for-ai-rocm/lib/python3.6/site-packages (from huggingface-hub<1.0.0,>=0.1.0->datasets) (3.4.1)\n",
      "Requirement already satisfied: pyparsing!=3.0.5,>=2.0.2 in /home/mzimmermann/software/python/venv3.6-for-ai-rocm/lib/python3.6/site-packages (from packaging->datasets) (3.1.2)\n",
      "Requirement already satisfied: certifi>=2017.4.17 in /home/mzimmermann/software/python/venv3.6-for-ai-rocm/lib/python3.6/site-packages (from requests>=2.19.0->datasets) (2024.2.2)\n",
      "Requirement already satisfied: urllib3<1.27,>=1.21.1 in /home/mzimmermann/software/python/venv3.6-for-ai-rocm/lib/python3.6/site-packages (from requests>=2.19.0->datasets) (1.26.18)\n",
      "Requirement already satisfied: idna<4,>=2.5 in /home/mzimmermann/software/python/venv3.6-for-ai-rocm/lib/python3.6/site-packages (from requests>=2.19.0->datasets) (3.6)\n",
      "Requirement already satisfied: charset-normalizer~=2.0.0 in /home/mzimmermann/software/python/venv3.6-for-ai-rocm/lib/python3.6/site-packages (from requests>=2.19.0->datasets) (2.0.12)\n",
      "Requirement already satisfied: six in /home/mzimmermann/software/python/venv3.6-for-ai-rocm/lib/python3.6/site-packages (from responses<0.19->datasets) (1.16.0)\n",
      "Requirement already satisfied: importlib-resources in /home/mzimmermann/software/python/venv3.6-for-ai-rocm/lib/python3.6/site-packages (from tqdm>=4.62.1->datasets) (5.4.0)\n",
      "Requirement already satisfied: idna-ssl>=1.0 in /home/mzimmermann/software/python/venv3.6-for-ai-rocm/lib/python3.6/site-packages (from aiohttp->datasets) (1.1.0)\n",
      "Requirement already satisfied: async-timeout<5.0,>=4.0.0a3 in /home/mzimmermann/software/python/venv3.6-for-ai-rocm/lib/python3.6/site-packages (from aiohttp->datasets) (4.0.2)\n",
      "Requirement already satisfied: frozenlist>=1.1.1 in /home/mzimmermann/software/python/venv3.6-for-ai-rocm/lib/python3.6/site-packages (from aiohttp->datasets) (1.2.0)\n",
      "Requirement already satisfied: aiosignal>=1.1.2 in /home/mzimmermann/software/python/venv3.6-for-ai-rocm/lib/python3.6/site-packages (from aiohttp->datasets) (1.2.0)\n",
      "Requirement already satisfied: yarl<2.0,>=1.0 in /home/mzimmermann/software/python/venv3.6-for-ai-rocm/lib/python3.6/site-packages (from aiohttp->datasets) (1.7.2)\n",
      "Requirement already satisfied: attrs>=17.3.0 in /home/mzimmermann/software/python/venv3.6-for-ai-rocm/lib/python3.6/site-packages (from aiohttp->datasets) (22.2.0)\n",
      "Requirement already satisfied: multidict<7.0,>=4.5 in /home/mzimmermann/software/python/venv3.6-for-ai-rocm/lib/python3.6/site-packages (from aiohttp->datasets) (5.2.0)\n",
      "Requirement already satisfied: asynctest==0.13.0 in /home/mzimmermann/software/python/venv3.6-for-ai-rocm/lib/python3.6/site-packages (from aiohttp->datasets) (0.13.0)\n",
      "Requirement already satisfied: zipp>=0.5 in /home/mzimmermann/software/python/venv3.6-for-ai-rocm/lib/python3.6/site-packages (from importlib-metadata->datasets) (3.6.0)\n",
      "Requirement already satisfied: python-dateutil>=2.7.3 in /home/mzimmermann/software/python/venv3.6-for-ai-rocm/lib/python3.6/site-packages (from pandas->datasets) (2.9.0.post0)\n",
      "Requirement already satisfied: pytz>=2017.2 in /home/mzimmermann/software/python/venv3.6-for-ai-rocm/lib/python3.6/site-packages (from pandas->datasets) (2024.1)\n",
      "Requirement already satisfied: accelerate in /home/mzimmermann/software/python/venv3.6-for-ai-rocm/lib/python3.6/site-packages (0.9.0)\n",
      "Requirement already satisfied: torch>=1.4.0 in /home/mzimmermann/software/python/venv3.6-for-ai-rocm/lib/python3.6/site-packages (from accelerate) (1.10.2)\n",
      "Requirement already satisfied: pyyaml in /home/mzimmermann/software/python/venv3.6-for-ai-rocm/lib/python3.6/site-packages (from accelerate) (6.0.1)\n",
      "Requirement already satisfied: numpy>=1.17 in /home/mzimmermann/software/python/venv3.6-for-ai-rocm/lib/python3.6/site-packages (from accelerate) (1.19.5)\n",
      "Requirement already satisfied: dataclasses in /home/mzimmermann/software/python/venv3.6-for-ai-rocm/lib/python3.6/site-packages (from torch>=1.4.0->accelerate) (0.8)\n",
      "Requirement already satisfied: typing-extensions in /home/mzimmermann/software/python/venv3.6-for-ai-rocm/lib/python3.6/site-packages (from torch>=1.4.0->accelerate) (4.1.1)\n",
      "Requirement already satisfied: evaluate in /home/mzimmermann/software/python/venv3.6-for-ai-rocm/lib/python3.6/site-packages (0.4.1)\n",
      "Requirement already satisfied: datasets>=2.0.0 in /home/mzimmermann/software/python/venv3.6-for-ai-rocm/lib/python3.6/site-packages (from evaluate) (2.4.0)\n",
      "Requirement already satisfied: dill in /home/mzimmermann/software/python/venv3.6-for-ai-rocm/lib/python3.6/site-packages (from evaluate) (0.3.4)\n",
      "Requirement already satisfied: fsspec[http]>=2021.05.0 in /home/mzimmermann/software/python/venv3.6-for-ai-rocm/lib/python3.6/site-packages (from evaluate) (2022.1.0)\n",
      "Requirement already satisfied: huggingface-hub>=0.4.0 in /home/mzimmermann/software/python/venv3.6-for-ai-rocm/lib/python3.6/site-packages (from evaluate) (0.4.0)\n",
      "Requirement already satisfied: multiprocess in /home/mzimmermann/software/python/venv3.6-for-ai-rocm/lib/python3.6/site-packages (from evaluate) (0.70.12.2)\n",
      "Requirement already satisfied: numpy>=1.17 in /home/mzimmermann/software/python/venv3.6-for-ai-rocm/lib/python3.6/site-packages (from evaluate) (1.19.5)\n",
      "Requirement already satisfied: packaging in /home/mzimmermann/software/python/venv3.6-for-ai-rocm/lib/python3.6/site-packages (from evaluate) (21.3)\n",
      "Requirement already satisfied: pandas in /home/mzimmermann/software/python/venv3.6-for-ai-rocm/lib/python3.6/site-packages (from evaluate) (1.1.5)\n",
      "Requirement already satisfied: requests>=2.19.0 in /home/mzimmermann/software/python/venv3.6-for-ai-rocm/lib/python3.6/site-packages (from evaluate) (2.27.1)\n",
      "Requirement already satisfied: responses<0.19 in /home/mzimmermann/software/python/venv3.6-for-ai-rocm/lib/python3.6/site-packages (from evaluate) (0.17.0)\n",
      "Requirement already satisfied: tqdm>=4.62.1 in /home/mzimmermann/software/python/venv3.6-for-ai-rocm/lib/python3.6/site-packages (from evaluate) (4.64.1)\n",
      "Requirement already satisfied: xxhash in /home/mzimmermann/software/python/venv3.6-for-ai-rocm/lib/python3.6/site-packages (from evaluate) (3.2.0)\n",
      "Requirement already satisfied: importlib_metadata in /home/mzimmermann/software/python/venv3.6-for-ai-rocm/lib/python3.6/site-packages (from evaluate) (4.8.3)\n",
      "Requirement already satisfied: pyarrow>=6.0.0 in /home/mzimmermann/software/python/venv3.6-for-ai-rocm/lib/python3.6/site-packages (from datasets>=2.0.0->evaluate) (6.0.1)\n",
      "Requirement already satisfied: dataclasses in /home/mzimmermann/software/python/venv3.6-for-ai-rocm/lib/python3.6/site-packages (from datasets>=2.0.0->evaluate) (0.8)\n",
      "Requirement already satisfied: aiohttp in /home/mzimmermann/software/python/venv3.6-for-ai-rocm/lib/python3.6/site-packages (from datasets>=2.0.0->evaluate) (3.8.6)\n",
      "Requirement already satisfied: filelock in /home/mzimmermann/software/python/venv3.6-for-ai-rocm/lib/python3.6/site-packages (from huggingface-hub>=0.4.0->evaluate) (3.4.1)\n",
      "Requirement already satisfied: pyyaml in /home/mzimmermann/software/python/venv3.6-for-ai-rocm/lib/python3.6/site-packages (from huggingface-hub>=0.4.0->evaluate) (6.0.1)\n",
      "Requirement already satisfied: typing-extensions>=3.7.4.3 in /home/mzimmermann/software/python/venv3.6-for-ai-rocm/lib/python3.6/site-packages (from huggingface-hub>=0.4.0->evaluate) (4.1.1)\n",
      "Requirement already satisfied: pyparsing!=3.0.5,>=2.0.2 in /home/mzimmermann/software/python/venv3.6-for-ai-rocm/lib/python3.6/site-packages (from packaging->evaluate) (3.1.2)\n",
      "Requirement already satisfied: charset-normalizer~=2.0.0 in /home/mzimmermann/software/python/venv3.6-for-ai-rocm/lib/python3.6/site-packages (from requests>=2.19.0->evaluate) (2.0.12)\n",
      "Requirement already satisfied: certifi>=2017.4.17 in /home/mzimmermann/software/python/venv3.6-for-ai-rocm/lib/python3.6/site-packages (from requests>=2.19.0->evaluate) (2024.2.2)\n",
      "Requirement already satisfied: urllib3<1.27,>=1.21.1 in /home/mzimmermann/software/python/venv3.6-for-ai-rocm/lib/python3.6/site-packages (from requests>=2.19.0->evaluate) (1.26.18)\n",
      "Requirement already satisfied: idna<4,>=2.5 in /home/mzimmermann/software/python/venv3.6-for-ai-rocm/lib/python3.6/site-packages (from requests>=2.19.0->evaluate) (3.6)\n",
      "Requirement already satisfied: six in /home/mzimmermann/software/python/venv3.6-for-ai-rocm/lib/python3.6/site-packages (from responses<0.19->evaluate) (1.16.0)\n",
      "Requirement already satisfied: importlib-resources in /home/mzimmermann/software/python/venv3.6-for-ai-rocm/lib/python3.6/site-packages (from tqdm>=4.62.1->evaluate) (5.4.0)\n",
      "Requirement already satisfied: zipp>=0.5 in /home/mzimmermann/software/python/venv3.6-for-ai-rocm/lib/python3.6/site-packages (from importlib_metadata->evaluate) (3.6.0)\n",
      "Requirement already satisfied: python-dateutil>=2.7.3 in /home/mzimmermann/software/python/venv3.6-for-ai-rocm/lib/python3.6/site-packages (from pandas->evaluate) (2.9.0.post0)\n",
      "Requirement already satisfied: pytz>=2017.2 in /home/mzimmermann/software/python/venv3.6-for-ai-rocm/lib/python3.6/site-packages (from pandas->evaluate) (2024.1)\n",
      "Requirement already satisfied: multidict<7.0,>=4.5 in /home/mzimmermann/software/python/venv3.6-for-ai-rocm/lib/python3.6/site-packages (from aiohttp->datasets>=2.0.0->evaluate) (5.2.0)\n",
      "Requirement already satisfied: asynctest==0.13.0 in /home/mzimmermann/software/python/venv3.6-for-ai-rocm/lib/python3.6/site-packages (from aiohttp->datasets>=2.0.0->evaluate) (0.13.0)\n",
      "Requirement already satisfied: frozenlist>=1.1.1 in /home/mzimmermann/software/python/venv3.6-for-ai-rocm/lib/python3.6/site-packages (from aiohttp->datasets>=2.0.0->evaluate) (1.2.0)\n",
      "Requirement already satisfied: idna-ssl>=1.0 in /home/mzimmermann/software/python/venv3.6-for-ai-rocm/lib/python3.6/site-packages (from aiohttp->datasets>=2.0.0->evaluate) (1.1.0)\n",
      "Requirement already satisfied: attrs>=17.3.0 in /home/mzimmermann/software/python/venv3.6-for-ai-rocm/lib/python3.6/site-packages (from aiohttp->datasets>=2.0.0->evaluate) (22.2.0)\n",
      "Requirement already satisfied: aiosignal>=1.1.2 in /home/mzimmermann/software/python/venv3.6-for-ai-rocm/lib/python3.6/site-packages (from aiohttp->datasets>=2.0.0->evaluate) (1.2.0)\n",
      "Requirement already satisfied: async-timeout<5.0,>=4.0.0a3 in /home/mzimmermann/software/python/venv3.6-for-ai-rocm/lib/python3.6/site-packages (from aiohttp->datasets>=2.0.0->evaluate) (4.0.2)\n",
      "Requirement already satisfied: yarl<2.0,>=1.0 in /home/mzimmermann/software/python/venv3.6-for-ai-rocm/lib/python3.6/site-packages (from aiohttp->datasets>=2.0.0->evaluate) (1.7.2)\n",
      "Requirement already satisfied: scikit-learn in /home/mzimmermann/software/python/venv3.6-for-ai-rocm/lib/python3.6/site-packages (0.24.2)\n",
      "Requirement already satisfied: numpy>=1.13.3 in /home/mzimmermann/software/python/venv3.6-for-ai-rocm/lib/python3.6/site-packages (from scikit-learn) (1.19.5)\n",
      "Requirement already satisfied: threadpoolctl>=2.0.0 in /home/mzimmermann/software/python/venv3.6-for-ai-rocm/lib/python3.6/site-packages (from scikit-learn) (3.1.0)\n",
      "Requirement already satisfied: joblib>=0.11 in /home/mzimmermann/software/python/venv3.6-for-ai-rocm/lib/python3.6/site-packages (from scikit-learn) (1.1.1)\n",
      "Requirement already satisfied: scipy>=0.19.1 in /home/mzimmermann/software/python/venv3.6-for-ai-rocm/lib/python3.6/site-packages (from scikit-learn) (1.5.4)\n"
     ]
    }
   ],
   "source": [
    "# Transformers installation\n",
    "# In huggingface: ! pip install transformers datasets\n",
    "! pip install --upgrade transformers\n",
    "! pip install --upgrade datasets\n",
    "! pip install --upgrade accelerate\n",
    "#\n",
    "# evaluate : Leap on Python 3.6: ERROR: No matching distribution found for evaluate, \n",
    "#   because evaluate requires Python>=3.7 and huggingface>=0.7.0. See pypi.\n",
    "# Mocked it and fixed it by downloading evaluate-0.4.1.zip to ~/Downloads, unziped\n",
    "#   edited setup.py in unziped, set python_requires>=3.7 and HF 0.4.0 ,\n",
    "#   then ran pip install evaluate-0.4.1/ from the ~/Downloads directory.\n",
    "#   That installed evaluate to site-packages in the venv, but I still needed to edit __init__.py\n",
    "#   in site-packages/evaluate/__init__.py and remove # mz removed from .hub import push_to_hub\n",
    "#   After that, restarted kernel, and 'evaluate' started to work.\n",
    "! pip install --upgrade evaluate\n",
    "! pip install --upgrade scikit-learn\n",
    "\n",
    "# To install from source instead of the last release, comment the command above and uncomment the following one.\n",
    "# ! pip install git+https://github.com/huggingface/transformers.git"
   ]
  },
  {
   "cell_type": "markdown",
   "metadata": {
    "id": "UQdi5aDiLcLv",
    "tags": []
   },
   "source": [
    "# 2. Fine-tune a pretrained model on our dataset"
   ]
  },
  {
   "cell_type": "markdown",
   "metadata": {
    "id": "yn3Bz8XmLcLw"
   },
   "source": [
    "There are significant benefits to using a pretrained model. It reduces computation costs, your carbon footprint, and allows you to use state-of-the-art models without having to train one from scratch. 🤗 Transformers provides access to thousands of pretrained models for a wide range of tasks. When you use a pretrained model, you train it on a dataset specific to your task. This is known as fine-tuning, an incredibly powerful training technique. In this tutorial, you will fine-tune a pretrained model with a deep learning framework of your choice:\n",
    "\n",
    "* Fine-tune a pretrained model with 🤗 Transformers [Trainer](https://huggingface.co/docs/transformers/main/en/main_classes/trainer#transformers.Trainer).\n",
    "* Fine-tune a pretrained model in TensorFlow with Keras.\n",
    "* Fine-tune a pretrained model in native PyTorch.\n",
    "\n",
    "<a id='data-processing'></a>"
   ]
  },
  {
   "cell_type": "markdown",
   "metadata": {
    "id": "65TfdItSLcLw"
   },
   "source": [
    "## 2.1. Prepare our dataset: datasets.load_dataset from yelp data file, create transformers.AutoTokenizer from pre-trained Bert model, create tokenized_dataset (slow), from it, small tokenized datasets for training and test"
   ]
  },
  {
   "cell_type": "code",
   "execution_count": 2,
   "metadata": {
    "colab": {
     "base_uri": "https://localhost:8080/",
     "height": 337
    },
    "hide_input": true,
    "id": "zFlFGon5LcLx",
    "outputId": "1e84da11-a904-43b1-8a84-4078b960ac84",
    "tags": []
   },
   "outputs": [],
   "source": [
    "#@title\n",
    "from IPython.display import HTML\n",
    "\n",
    "# HTML('<iframe width=\"560\" height=\"315\" src=\"https://www.youtube.com/embed/_BZearw7f0w?rel=0&amp;controls=0&amp;showinfo=0\" frameborder=\"0\" allowfullscreen></iframe>')"
   ]
  },
  {
   "cell_type": "markdown",
   "metadata": {
    "id": "v1sg4UehLcLx"
   },
   "source": [
    "Before you can fine-tune a pretrained model, download a dataset and prepare it for training. The previous tutorial showed you how to process data for training, and now you get an opportunity to put those skills to the test!\n",
    "\n",
    "Begin by loading the [Yelp Reviews](https://huggingface.co/datasets/yelp_review_full) dataset:"
   ]
  },
  {
   "cell_type": "code",
   "execution_count": 3,
   "metadata": {
    "colab": {
     "base_uri": "https://localhost:8080/"
    },
    "id": "WAyREvoULcLx",
    "outputId": "59ae8862-4e4f-47c7-a8e6-e6197d707cce"
   },
   "outputs": [
    {
     "name": "stderr",
     "output_type": "stream",
     "text": [
      "/home/mzimmermann/software/python/venv3.6-for-ai-rocm/lib64/python3.6/site-packages/tqdm/auto.py:22: TqdmWarning: IProgress not found. Please update jupyter and ipywidgets. See https://ipywidgets.readthedocs.io/en/stable/user_install.html\n",
      "  from .autonotebook import tqdm as notebook_tqdm\n",
      "Reusing dataset yelp_review_full (/home/mzimmermann/.cache/huggingface/datasets/yelp_review_full/yelp_review_full/1.0.0/e8e18e19d7be9e75642fc66b198abadb116f73599ec89a69ba5dd8d1e57ba0bf)\n",
      "100%|██████████| 2/2 [00:00<00:00, 181.47it/s]\n"
     ]
    },
    {
     "data": {
      "text/plain": [
       "{'label': 0,\n",
       " 'text': 'My expectations for McDonalds are t rarely high. But for one to still fail so spectacularly...that takes something special!\\\\nThe cashier took my friends\\'s order, then promptly ignored me. I had to force myself in front of a cashier who opened his register to wait on the person BEHIND me. I waited over five minutes for a gigantic order that included precisely one kid\\'s meal. After watching two people who ordered after me be handed their food, I asked where mine was. The manager started yelling at the cashiers for \\\\\"serving off their orders\\\\\" when they didn\\'t have their food. But neither cashier was anywhere near those controls, and the manager was the one serving food to customers and clearing the boards.\\\\nThe manager was rude when giving me my order. She didn\\'t make sure that I had everything ON MY RECEIPT, and never even had the decency to apologize that I felt I was getting poor service.\\\\nI\\'ve eaten at various McDonalds restaurants for over 30 years. I\\'ve worked at more than one location. I expect bad days, bad moods, and the occasional mistake. But I have yet to have a decent experience at this store. It will remain a place I avoid unless someone in my party needs to avoid illness from low blood sugar. Perhaps I should go back to the racially biased service of Steak n Shake instead!'}"
      ]
     },
     "execution_count": 3,
     "metadata": {},
     "output_type": "execute_result"
    }
   ],
   "source": [
    "from datasets import load_dataset\n",
    "\n",
    "dataset = load_dataset(\"yelp_review_full\")\n",
    " # Show 1 items in dataset\n",
    "dataset[\"train\"][100]\n"
   ]
  },
  {
   "cell_type": "markdown",
   "metadata": {
    "id": "limQX-V2LcLy"
   },
   "source": [
    "As you now know, you need a tokenizer to process the text and include a padding and truncation strategy to handle any variable sequence lengths. To process your dataset in one step, use 🤗 Datasets [`map`](https://huggingface.co/docs/datasets/process.html#map) method to apply a preprocessing function over the entire dataset. With the tiny model, we get a message similar to\n",
    "\n",
    "\"Could not locate the tokenizer configuration file, will try to use the model config instead.\"\n",
    "\n"
   ]
  },
  {
   "cell_type": "code",
   "execution_count": 4,
   "metadata": {
    "colab": {
     "base_uri": "https://localhost:8080/",
     "height": 49,
     "referenced_widgets": [
      "81e6dd372be84e1e9b4bc0890d69f739",
      "10774d55328d46be81cd1d739d26d82f",
      "280d73fd0dfa4be49371647a6f7a2816",
      "a73305757c934380bbc8ed1ce6f7cb96",
      "cc5177634fd2490f92924dce56fc326f",
      "dee7cf1e9c4741cfb7684de668bac0d9",
      "43f8b26bf0f248cbb0d32375baad5861",
      "6e72f67f885f4a669bef78fa03d56187",
      "ef58913bc3ed458da4bb4fa24de89ca4",
      "aea6f01c846e415eae9a1d98f8a73043",
      "230580decd714e8fac042b9ccf835657"
     ]
    },
    "id": "jYlVRmyPLcLy",
    "outputId": "98979c50-7b3b-453c-e488-1a2159c71f3a"
   },
   "outputs": [
    {
     "name": "stderr",
     "output_type": "stream",
     "text": [
      "100%|██████████| 650/650 [01:56<00:00,  5.58ba/s]\n",
      "Loading cached processed dataset at /home/mzimmermann/.cache/huggingface/datasets/yelp_review_full/yelp_review_full/1.0.0/e8e18e19d7be9e75642fc66b198abadb116f73599ec89a69ba5dd8d1e57ba0bf/cache-68322ed0dbc89025.arrow\n"
     ]
    }
   ],
   "source": [
    "from transformers import AutoTokenizer\n",
    "\n",
    "# Factory instantiate AutoTokenizer from pretrained model - tokenizer must be defined in the model (?).\n",
    "# Note on naming on huggingface: \n",
    "#   - https://huggingface.co/google-bert/bert-base-cased \n",
    "#     redirects to https://huggingface.co/google-bert/bert-base-cased\n",
    "#     in code parameters it is just called \"bert-base-cased\"\n",
    "#     But, the same is not true for the TINY \"bert_uncased_L-2_H-128_A-2\",\n",
    "#     it exists as https://huggingface.co/google/bert_uncased_L-2_H-128_A-2,\n",
    "#     but there is no redirect \n",
    "tokenizer = AutoTokenizer.from_pretrained(\"google/bert_uncased_L-2_H-128_A-2\") # \"bert-base-cased\"\n",
    "\n",
    "# Function uses tokenizer from pretrained model.\n",
    "# If the pretrained model has no predefined max_length, we MUST set it. Using max_length=max_length\n",
    "def tokenize_function(examples):\n",
    "    return tokenizer(examples['text'], padding='max_length', truncation=True, max_length=128)\n",
    "\n",
    "# Timing:\n",
    "#   - local/laptop/CPU\n",
    "#     - with max_length=128 : 1m:56s\n",
    "tokenized_datasets = dataset.map(tokenize_function, batched=True)\n"
   ]
  },
  {
   "cell_type": "markdown",
   "metadata": {
    "id": "cWf_XywTLcLy"
   },
   "source": [
    "Create a smaller subset of the full dataset to fine-tune on to reduce the time it takes:"
   ]
  },
  {
   "cell_type": "code",
   "execution_count": 5,
   "metadata": {
    "colab": {
     "base_uri": "https://localhost:8080/"
    },
    "id": "YgpaP0u5LcLy",
    "outputId": "50732b79-d0ca-4e42-f360-b45afe3e7d4a"
   },
   "outputs": [
    {
     "name": "stderr",
     "output_type": "stream",
     "text": [
      "Loading cached shuffled indices for dataset at /home/mzimmermann/.cache/huggingface/datasets/yelp_review_full/yelp_review_full/1.0.0/e8e18e19d7be9e75642fc66b198abadb116f73599ec89a69ba5dd8d1e57ba0bf/cache-c45ce1b890a8dcca.arrow\n",
      "Loading cached shuffled indices for dataset at /home/mzimmermann/.cache/huggingface/datasets/yelp_review_full/yelp_review_full/1.0.0/e8e18e19d7be9e75642fc66b198abadb116f73599ec89a69ba5dd8d1e57ba0bf/cache-971705894e3ff669.arrow\n"
     ]
    },
    {
     "name": "stdout",
     "output_type": "stream",
     "text": [
      "Dataset({\n",
      "    features: ['label', 'text', 'input_ids', 'token_type_ids', 'attention_mask'],\n",
      "    num_rows: 1000\n",
      "})\n",
      "[\n",
      "  [\n",
      "    0,\n",
      "    0\n",
      "  ]\n",
      "]\n",
      "[\n",
      "  [\n",
      "    \"Don't waste your time.  We had two different people come to our house to give us estimates for a deck (one of them the OWNER).  Both times, we never heard from them.  Not a call, not the estimate, nothing.\",\n",
      "    \"All I can say is the worst! We were the only 2 people in the place for lunch, the place was freezing and loaded with kids toys! 2 bicycles, a scooter, and an electronic keyboard graced the dining room. A fish tank with filthy, slimy fingerprints smeared all over it is there for your enjoyment.\\n\\nOur food came... no water to drink, no tea, medium temperature food. Of course its cold, just like the room, I never took my jacket off! The plates are too small, you food spills over onto some semi-clean tables as you sit in your completely worn out booth seat. The fried noodles were out of a box and nasty, the shrimp was mushy, the fried rice was bright yellow.\\n\\nWe asked for water, they brought us 1 in a SOLO cup for 2 people. I asked for hot tea, they said 10 minutes. What Chinese restaurant does not have hot tea available upon request?\\n\\nOver all.... my first and last visit to this place. The only good point was that it was cheap, and deservingly so.\"\n",
      "  ]\n",
      "]\n"
     ]
    }
   ],
   "source": [
    "small_train_dataset = tokenized_datasets[\"train\"].shuffle(seed=42).select(range(1000))\n",
    "small_eval_dataset = tokenized_datasets[\"test\"].shuffle(seed=42).select(range(1000))\n",
    "print(small_eval_dataset)\n",
    "print(small_eval_dataset.data[0][1:3]) # label (0-5)\n",
    "print(small_eval_dataset.data[1][1:3]) # text of review\n",
    "# print(small_eval_dataset.data[2][1:3])\n",
    "# print(small_eval_dataset.data[3][1:3])\n",
    "# print(small_eval_dataset.data[4][1:3])\n"
   ]
  },
  {
   "cell_type": "markdown",
   "metadata": {
    "id": "88rAMQjlLcLy"
   },
   "source": [
    "<a id='trainer'></a>"
   ]
  },
  {
   "cell_type": "markdown",
   "metadata": {
    "id": "P4UJfoydLcLz"
   },
   "source": [
    "## 2.2. Train (fine tune) model using Pytorch on our dataset"
   ]
  },
  {
   "cell_type": "markdown",
   "metadata": {
    "id": "hTBkbugQLcLz"
   },
   "source": [
    "At this point, you should follow the section corresponding to the framework you want to use. You can use the links\n",
    "in the right sidebar to jump to the one you want - and if you want to hide all of the content for a given framework,\n",
    "just use the button at the top-right of that framework's block!"
   ]
  },
  {
   "cell_type": "code",
   "execution_count": 6,
   "metadata": {
    "colab": {
     "base_uri": "https://localhost:8080/",
     "height": 378
    },
    "hide_input": true,
    "id": "6qq5SKL1LcLz",
    "outputId": "40d5a553-0e67-413d-c611-c902538df58c"
   },
   "outputs": [],
   "source": [
    "#@title\n",
    "from IPython.display import HTML\n",
    "\n",
    "# HTML('<iframe width=\"560\" height=\"315\" src=\"https://www.youtube.com/embed/nvBXf7s7vTI?rel=0&amp;controls=0&amp;showinfo=0\" frameborder=\"0\" allowfullscreen></iframe>')"
   ]
  },
  {
   "cell_type": "markdown",
   "metadata": {
    "id": "wKKNW2rFLcLz"
   },
   "source": [
    "### 2.2.1. Factory instantiate AutoModelForSequenceClassification model from the pre-trained Bert model file, during instantiation set number of expected features in dataset.\n",
    "\n"
   ]
  },
  {
   "cell_type": "markdown",
   "metadata": {
    "id": "1UNiI_GuLcLz"
   },
   "source": [
    "Hugginface transformers provides a [Trainer](https://huggingface.co/docs/transformers/main/en/main_classes/trainer#transformers.Trainer) class optimized for training transformer models (no need to manually write our own training loop). The [Trainer](https://huggingface.co/docs/transformers/main/en/main_classes/trainer#transformers.Trainer) API supports a wide range of training options and features such as logging, gradient accumulation, and mixed precision.\n",
    "\n",
    "Start by loading your model and specify the number of expected features (called labels in num_labels here). From the Yelp Review [dataset card](https://huggingface.co/datasets/yelp_review_full#data-fields), you know there are five features:"
   ]
  },
  {
   "cell_type": "code",
   "execution_count": 7,
   "metadata": {
    "colab": {
     "base_uri": "https://localhost:8080/"
    },
    "id": "jrx9bDp7LcLz",
    "outputId": "c19cce25-ff4d-4ba9-b073-964980a026bb"
   },
   "outputs": [
    {
     "name": "stderr",
     "output_type": "stream",
     "text": [
      "Some weights of the model checkpoint at google/bert_uncased_L-2_H-128_A-2 were not used when initializing BertForSequenceClassification: ['cls.predictions.transform.dense.bias', 'cls.predictions.transform.LayerNorm.bias', 'cls.predictions.transform.dense.weight', 'cls.predictions.decoder.weight', 'cls.predictions.transform.LayerNorm.weight', 'cls.predictions.bias', 'cls.predictions.decoder.bias', 'cls.seq_relationship.bias', 'cls.seq_relationship.weight']\n",
      "- This IS expected if you are initializing BertForSequenceClassification from the checkpoint of a model trained on another task or with another architecture (e.g. initializing a BertForSequenceClassification model from a BertForPreTraining model).\n",
      "- This IS NOT expected if you are initializing BertForSequenceClassification from the checkpoint of a model that you expect to be exactly identical (initializing a BertForSequenceClassification model from a BertForSequenceClassification model).\n",
      "Some weights of BertForSequenceClassification were not initialized from the model checkpoint at google/bert_uncased_L-2_H-128_A-2 and are newly initialized: ['classifier.weight', 'classifier.bias']\n",
      "You should probably TRAIN this model on a down-stream task to be able to use it for predictions and inference.\n"
     ]
    }
   ],
   "source": [
    "from transformers import AutoModelForSequenceClassification\n",
    "\n",
    "# Factory instantiate AutoModelForSequenceClassification model from the pre-trained Bert model file;\n",
    "# labels correspond to 5 Dataset features: ['label', 'text', 'input_ids', 'token_type_ids', 'attention_mask'],\n",
    "model = AutoModelForSequenceClassification.from_pretrained(\"google/bert_uncased_L-2_H-128_A-2\", num_labels=5) # \"bert-base-cased\""
   ]
  },
  {
   "cell_type": "markdown",
   "metadata": {
    "id": "c8KFOwDILcLz"
   },
   "source": [
    "<Tip>\n",
    "\n",
    "There are warnings about pretrained weights ['classifier.bias', 'classifier.weight'] not being used, and also warnings about initization from checkpoints. This is normal. The pretrained head of the BERT model is discarded, and replaced with a randomly initialized classification head. You will fine-tune this new model head on your sequence classification task, transferring the knowledge of the pretrained model to it.\n",
    "\n",
    "</Tip>"
   ]
  },
  {
   "cell_type": "markdown",
   "metadata": {
    "id": "r-rEWc1uLcL0"
   },
   "source": [
    "### 2.2.2. Evaluate: Use the evaluate package to create 'metric', get compute_metric (epsilon of accuracy), and create training_args for monitoring"
   ]
  },
  {
   "cell_type": "markdown",
   "metadata": {
    "id": "fIXbndyCLcL0"
   },
   "source": [
    "[Trainer](https://huggingface.co/docs/transformers/main/en/main_classes/trainer#transformers.Trainer) does not automatically evaluate model performance during training. You'll need to pass [Trainer](https://huggingface.co/docs/transformers/main/en/main_classes/trainer#transformers.Trainer) a function to compute and report metrics. The [🤗 Evaluate](https://huggingface.co/docs/evaluate/index) library provides a simple [`accuracy`](https://huggingface.co/spaces/evaluate-metric/accuracy) function you can load with the [evaluate.load](https://huggingface.co/docs/evaluate/main/en/package_reference/loading_methods#evaluate.load) (see this [quicktour](https://huggingface.co/docs/evaluate/a_quick_tour) for more information) function:"
   ]
  },
  {
   "cell_type": "code",
   "execution_count": 8,
   "metadata": {
    "id": "gKX-8KIqLcL0"
   },
   "outputs": [],
   "source": [
    "import numpy as np\n",
    "import evaluate\n",
    "\n",
    "metric = evaluate.load(\"accuracy\")"
   ]
  },
  {
   "cell_type": "markdown",
   "metadata": {
    "id": "WHpEy2xXLcL0"
   },
   "source": [
    "Call `compute` on `metric` to calculate the accuracy of your predictions. Before passing your predictions to `compute`, you need to convert the predictions to logits (remember all 🤗 Transformers models return logits):"
   ]
  },
  {
   "cell_type": "code",
   "execution_count": 9,
   "metadata": {
    "id": "qh1CY4TULcL0"
   },
   "outputs": [],
   "source": [
    "def compute_metrics(eval_pred):\n",
    "    logits, labels = eval_pred\n",
    "    predictions = np.argmax(logits, axis=-1)\n",
    "    return metric.compute(predictions=predictions, references=labels)"
   ]
  },
  {
   "cell_type": "markdown",
   "metadata": {
    "id": "KPKElPOuLcL0"
   },
   "source": [
    "To monitor the evaluation metrics during fine-tuning, the `evaluation_strategy` parameter must be added to the training arguments. Below, we ask it to report at the end of each epoch:"
   ]
  },
  {
   "cell_type": "code",
   "execution_count": 10,
   "metadata": {
    "id": "pYl--xLbLcL0"
   },
   "outputs": [],
   "source": [
    "from transformers import TrainingArguments, Trainer\n",
    "\n",
    "# The training output will go to \"test_trainer\" directory. Errors will be evaluated after each epoch.\n",
    "training_args = TrainingArguments(output_dir=\"test_trainer\", evaluation_strategy=\"epoch\")"
   ]
  },
  {
   "cell_type": "markdown",
   "metadata": {
    "id": "yoIidBLnLcL0"
   },
   "source": [
    "### 2.2.3. Trainer: Create trainer instance from model, train_dataset, eval_dataset, training_args, and compute_metrics, then call trainer.train(model, training_args, train_dataset, eval_dataset, metrics)"
   ]
  },
  {
   "cell_type": "markdown",
   "metadata": {
    "id": "A9hKIntMLcL0"
   },
   "source": [
    "Create a [Trainer](https://huggingface.co/docs/transformers/main/en/main_classes/trainer#transformers.Trainer) object with your model, training arguments, training and test datasets, and evaluation function. \n",
    "\n",
    "todo there is a way to save checkpoints (temporary state) during training; this can be set in configuration, something like (save_strategy=\"yes\"). See [purpose of save pretrained](https://discuss.huggingface.co/t/what-is-the-purpose-of-save-pretrained/9167). Add this stuff"
   ]
  },
  {
   "cell_type": "code",
   "execution_count": 11,
   "metadata": {
    "id": "Dk06Vo7LLcL0"
   },
   "outputs": [
    {
     "name": "stdout",
     "output_type": "stream",
     "text": [
      "False\n"
     ]
    }
   ],
   "source": [
    "trainer = Trainer(\n",
    "    model=model,\n",
    "    args=training_args,\n",
    "    train_dataset=small_train_dataset,\n",
    "    eval_dataset=small_eval_dataset,\n",
    "    compute_metrics=compute_metrics,\n",
    ")\n",
    "\n",
    "import torch\n",
    "print(torch.cuda.is_available())"
   ]
  },
  {
   "cell_type": "markdown",
   "metadata": {
    "id": "4u-ohPtRLcL0"
   },
   "source": [
    "Then fine-tune your model by calling [train()](https://huggingface.co/docs/transformers/main/en/main_classes/trainer#transformers.Trainer.train):"
   ]
  },
  {
   "cell_type": "code",
   "execution_count": 12,
   "metadata": {
    "colab": {
     "base_uri": "https://localhost:8080/",
     "height": 77
    },
    "id": "uM8PdJmOLcL1",
    "outputId": "7d685d37-f547-4cd9-deb3-7e0f7f6c6157"
   },
   "outputs": [
    {
     "name": "stderr",
     "output_type": "stream",
     "text": [
      "The following columns in the training set  don't have a corresponding argument in `BertForSequenceClassification.forward` and have been ignored: text. If text are not expected by `BertForSequenceClassification.forward`,  you can safely ignore this message.\n",
      "/home/mzimmermann/software/python/venv3.6-for-ai-rocm/lib64/python3.6/site-packages/transformers/optimization.py:309: FutureWarning: This implementation of AdamW is deprecated and will be removed in a future version. Use the PyTorch implementation torch.optim.AdamW instead, or set `no_deprecation_warning=True` to disable this warning\n",
      "  FutureWarning,\n",
      "***** Running training *****\n",
      "  Num examples = 1000\n",
      "  Num Epochs = 3\n",
      "  Instantaneous batch size per device = 8\n",
      "  Total train batch size (w. parallel, distributed & accumulation) = 8\n",
      "  Gradient Accumulation steps = 1\n",
      "  Total optimization steps = 375\n"
     ]
    },
    {
     "data": {
      "text/html": [
       "\n",
       "    <div>\n",
       "      \n",
       "      <progress value='375' max='375' style='width:300px; height:20px; vertical-align: middle;'></progress>\n",
       "      [375/375 01:07, Epoch 3/3]\n",
       "    </div>\n",
       "    <table border=\"1\" class=\"dataframe\">\n",
       "  <thead>\n",
       " <tr style=\"text-align: left;\">\n",
       "      <th>Epoch</th>\n",
       "      <th>Training Loss</th>\n",
       "      <th>Validation Loss</th>\n",
       "      <th>Accuracy</th>\n",
       "    </tr>\n",
       "  </thead>\n",
       "  <tbody>\n",
       "    <tr>\n",
       "      <td>1</td>\n",
       "      <td>No log</td>\n",
       "      <td>1.571663</td>\n",
       "      <td>0.292000</td>\n",
       "    </tr>\n",
       "    <tr>\n",
       "      <td>2</td>\n",
       "      <td>No log</td>\n",
       "      <td>1.546337</td>\n",
       "      <td>0.335000</td>\n",
       "    </tr>\n",
       "    <tr>\n",
       "      <td>3</td>\n",
       "      <td>No log</td>\n",
       "      <td>1.535603</td>\n",
       "      <td>0.341000</td>\n",
       "    </tr>\n",
       "  </tbody>\n",
       "</table><p>"
      ],
      "text/plain": [
       "<IPython.core.display.HTML object>"
      ]
     },
     "metadata": {},
     "output_type": "display_data"
    },
    {
     "name": "stderr",
     "output_type": "stream",
     "text": [
      "The following columns in the evaluation set  don't have a corresponding argument in `BertForSequenceClassification.forward` and have been ignored: text. If text are not expected by `BertForSequenceClassification.forward`,  you can safely ignore this message.\n",
      "***** Running Evaluation *****\n",
      "  Num examples = 1000\n",
      "  Batch size = 8\n",
      "The following columns in the evaluation set  don't have a corresponding argument in `BertForSequenceClassification.forward` and have been ignored: text. If text are not expected by `BertForSequenceClassification.forward`,  you can safely ignore this message.\n",
      "***** Running Evaluation *****\n",
      "  Num examples = 1000\n",
      "  Batch size = 8\n",
      "The following columns in the evaluation set  don't have a corresponding argument in `BertForSequenceClassification.forward` and have been ignored: text. If text are not expected by `BertForSequenceClassification.forward`,  you can safely ignore this message.\n",
      "***** Running Evaluation *****\n",
      "  Num examples = 1000\n",
      "  Batch size = 8\n",
      "\n",
      "\n",
      "Training completed. Do not forget to share your model on huggingface.co/models =)\n",
      "\n",
      "\n"
     ]
    },
    {
     "data": {
      "text/plain": [
       "TrainOutput(global_step=375, training_loss=1.5644772135416667, metrics={'train_runtime': 68.0035, 'train_samples_per_second': 44.115, 'train_steps_per_second': 5.514, 'total_flos': 953756928000.0, 'train_loss': 1.5644772135416667, 'epoch': 3.0})"
      ]
     },
     "execution_count": 12,
     "metadata": {},
     "output_type": "execute_result"
    }
   ],
   "source": [
    "# Timing:\n",
    "#   - local/server/cuda=false(CPU): \n",
    "#   - local/laptop/cuda=false(CPU)/max_lenght=128, epoch=3 : 1m04s, using 1.3G of memory @50%CPU Utilization.\n",
    "\n",
    "trainer.train()"
   ]
  },
  {
   "cell_type": "markdown",
   "metadata": {},
   "source": [
    "### 2.2.4 Save my re-trained model"
   ]
  },
  {
   "cell_type": "markdown",
   "metadata": {},
   "source": [
    "There are save methods both on Model (save_pretrained) and Trainer (save_model).\n",
    "\n"
   ]
  },
  {
   "cell_type": "code",
   "execution_count": 13,
   "metadata": {},
   "outputs": [
    {
     "name": "stderr",
     "output_type": "stream",
     "text": [
      "Saving model checkpoint to HUGE-NO-BACKUP/model:tiny-bert_uncased_L-2_H-128_A-2-max_length-128-finetuned-on-yelp-1000.local-laptop-cpu\n",
      "Configuration saved in HUGE-NO-BACKUP/model:tiny-bert_uncased_L-2_H-128_A-2-max_length-128-finetuned-on-yelp-1000.local-laptop-cpu/config.json\n",
      "Model weights saved in HUGE-NO-BACKUP/model:tiny-bert_uncased_L-2_H-128_A-2-max_length-128-finetuned-on-yelp-1000.local-laptop-cpu/pytorch_model.bin\n"
     ]
    }
   ],
   "source": [
    "# Save my re-trained model\n",
    "\n",
    "trainer.save_model(\"HUGE-NO-BACKUP/model:tiny-bert_uncased_L-2_H-128_A-2-max_length-128-finetuned-on-yelp-1000.local-laptop-cpu\")"
   ]
  },
  {
   "cell_type": "markdown",
   "metadata": {
    "id": "hi1AstBeLcL_"
   },
   "source": [
    "## Additional resources"
   ]
  },
  {
   "cell_type": "markdown",
   "metadata": {
    "id": "12_-UrDpLcL_"
   },
   "source": [
    "For more fine-tuning examples, refer to:\n",
    "\n",
    "- [🤗 Transformers Examples](https://github.com/huggingface/transformers/tree/main/examples) includes scripts\n",
    "  to train common NLP tasks in PyTorch and TensorFlow.\n",
    "\n",
    "- [🤗 Transformers Notebooks](https://huggingface.co/docs/transformers/main/en/notebooks) contains various notebooks on how to fine-tune a model for specific tasks in PyTorch and TensorFlow."
   ]
  }
 ],
 "metadata": {
  "colab": {
   "collapsed_sections": [
    "5bqd-PN9iEWZ",
    "YG5IwNlJLcL1",
    "fFiuFUYfLcL8"
   ],
   "provenance": []
  },
  "kernelspec": {
   "display_name": "venv3.6-for-ai-rocm",
   "language": "python",
   "name": "venv3.6-for-ai-rocm"
  },
  "language_info": {
   "codemirror_mode": {
    "name": "ipython",
    "version": 3
   },
   "file_extension": ".py",
   "mimetype": "text/x-python",
   "name": "python",
   "nbconvert_exporter": "python",
   "pygments_lexer": "ipython3",
   "version": "3.6.15"
  },
  "widgets": {
   "application/vnd.jupyter.widget-state+json": {
    "10774d55328d46be81cd1d739d26d82f": {
     "model_module": "@jupyter-widgets/controls",
     "model_module_version": "1.5.0",
     "model_name": "HTMLModel",
     "state": {
      "_dom_classes": [],
      "_model_module": "@jupyter-widgets/controls",
      "_model_module_version": "1.5.0",
      "_model_name": "HTMLModel",
      "_view_count": null,
      "_view_module": "@jupyter-widgets/controls",
      "_view_module_version": "1.5.0",
      "_view_name": "HTMLView",
      "description": "",
      "description_tooltip": null,
      "layout": "IPY_MODEL_dee7cf1e9c4741cfb7684de668bac0d9",
      "placeholder": "​",
      "style": "IPY_MODEL_43f8b26bf0f248cbb0d32375baad5861",
      "value": "Map: 100%"
     }
    },
    "230580decd714e8fac042b9ccf835657": {
     "model_module": "@jupyter-widgets/controls",
     "model_module_version": "1.5.0",
     "model_name": "DescriptionStyleModel",
     "state": {
      "_model_module": "@jupyter-widgets/controls",
      "_model_module_version": "1.5.0",
      "_model_name": "DescriptionStyleModel",
      "_view_count": null,
      "_view_module": "@jupyter-widgets/base",
      "_view_module_version": "1.2.0",
      "_view_name": "StyleView",
      "description_width": ""
     }
    },
    "280d73fd0dfa4be49371647a6f7a2816": {
     "model_module": "@jupyter-widgets/controls",
     "model_module_version": "1.5.0",
     "model_name": "FloatProgressModel",
     "state": {
      "_dom_classes": [],
      "_model_module": "@jupyter-widgets/controls",
      "_model_module_version": "1.5.0",
      "_model_name": "FloatProgressModel",
      "_view_count": null,
      "_view_module": "@jupyter-widgets/controls",
      "_view_module_version": "1.5.0",
      "_view_name": "ProgressView",
      "bar_style": "success",
      "description": "",
      "description_tooltip": null,
      "layout": "IPY_MODEL_6e72f67f885f4a669bef78fa03d56187",
      "max": 50000,
      "min": 0,
      "orientation": "horizontal",
      "style": "IPY_MODEL_ef58913bc3ed458da4bb4fa24de89ca4",
      "value": 50000
     }
    },
    "43f8b26bf0f248cbb0d32375baad5861": {
     "model_module": "@jupyter-widgets/controls",
     "model_module_version": "1.5.0",
     "model_name": "DescriptionStyleModel",
     "state": {
      "_model_module": "@jupyter-widgets/controls",
      "_model_module_version": "1.5.0",
      "_model_name": "DescriptionStyleModel",
      "_view_count": null,
      "_view_module": "@jupyter-widgets/base",
      "_view_module_version": "1.2.0",
      "_view_name": "StyleView",
      "description_width": ""
     }
    },
    "6e72f67f885f4a669bef78fa03d56187": {
     "model_module": "@jupyter-widgets/base",
     "model_module_version": "1.2.0",
     "model_name": "LayoutModel",
     "state": {
      "_model_module": "@jupyter-widgets/base",
      "_model_module_version": "1.2.0",
      "_model_name": "LayoutModel",
      "_view_count": null,
      "_view_module": "@jupyter-widgets/base",
      "_view_module_version": "1.2.0",
      "_view_name": "LayoutView",
      "align_content": null,
      "align_items": null,
      "align_self": null,
      "border": null,
      "bottom": null,
      "display": null,
      "flex": null,
      "flex_flow": null,
      "grid_area": null,
      "grid_auto_columns": null,
      "grid_auto_flow": null,
      "grid_auto_rows": null,
      "grid_column": null,
      "grid_gap": null,
      "grid_row": null,
      "grid_template_areas": null,
      "grid_template_columns": null,
      "grid_template_rows": null,
      "height": null,
      "justify_content": null,
      "justify_items": null,
      "left": null,
      "margin": null,
      "max_height": null,
      "max_width": null,
      "min_height": null,
      "min_width": null,
      "object_fit": null,
      "object_position": null,
      "order": null,
      "overflow": null,
      "overflow_x": null,
      "overflow_y": null,
      "padding": null,
      "right": null,
      "top": null,
      "visibility": null,
      "width": null
     }
    },
    "81e6dd372be84e1e9b4bc0890d69f739": {
     "model_module": "@jupyter-widgets/controls",
     "model_module_version": "1.5.0",
     "model_name": "HBoxModel",
     "state": {
      "_dom_classes": [],
      "_model_module": "@jupyter-widgets/controls",
      "_model_module_version": "1.5.0",
      "_model_name": "HBoxModel",
      "_view_count": null,
      "_view_module": "@jupyter-widgets/controls",
      "_view_module_version": "1.5.0",
      "_view_name": "HBoxView",
      "box_style": "",
      "children": [
       "IPY_MODEL_10774d55328d46be81cd1d739d26d82f",
       "IPY_MODEL_280d73fd0dfa4be49371647a6f7a2816",
       "IPY_MODEL_a73305757c934380bbc8ed1ce6f7cb96"
      ],
      "layout": "IPY_MODEL_cc5177634fd2490f92924dce56fc326f"
     }
    },
    "a73305757c934380bbc8ed1ce6f7cb96": {
     "model_module": "@jupyter-widgets/controls",
     "model_module_version": "1.5.0",
     "model_name": "HTMLModel",
     "state": {
      "_dom_classes": [],
      "_model_module": "@jupyter-widgets/controls",
      "_model_module_version": "1.5.0",
      "_model_name": "HTMLModel",
      "_view_count": null,
      "_view_module": "@jupyter-widgets/controls",
      "_view_module_version": "1.5.0",
      "_view_name": "HTMLView",
      "description": "",
      "description_tooltip": null,
      "layout": "IPY_MODEL_aea6f01c846e415eae9a1d98f8a73043",
      "placeholder": "​",
      "style": "IPY_MODEL_230580decd714e8fac042b9ccf835657",
      "value": " 50000/50000 [00:47&lt;00:00, 1283.19 examples/s]"
     }
    },
    "aea6f01c846e415eae9a1d98f8a73043": {
     "model_module": "@jupyter-widgets/base",
     "model_module_version": "1.2.0",
     "model_name": "LayoutModel",
     "state": {
      "_model_module": "@jupyter-widgets/base",
      "_model_module_version": "1.2.0",
      "_model_name": "LayoutModel",
      "_view_count": null,
      "_view_module": "@jupyter-widgets/base",
      "_view_module_version": "1.2.0",
      "_view_name": "LayoutView",
      "align_content": null,
      "align_items": null,
      "align_self": null,
      "border": null,
      "bottom": null,
      "display": null,
      "flex": null,
      "flex_flow": null,
      "grid_area": null,
      "grid_auto_columns": null,
      "grid_auto_flow": null,
      "grid_auto_rows": null,
      "grid_column": null,
      "grid_gap": null,
      "grid_row": null,
      "grid_template_areas": null,
      "grid_template_columns": null,
      "grid_template_rows": null,
      "height": null,
      "justify_content": null,
      "justify_items": null,
      "left": null,
      "margin": null,
      "max_height": null,
      "max_width": null,
      "min_height": null,
      "min_width": null,
      "object_fit": null,
      "object_position": null,
      "order": null,
      "overflow": null,
      "overflow_x": null,
      "overflow_y": null,
      "padding": null,
      "right": null,
      "top": null,
      "visibility": null,
      "width": null
     }
    },
    "cc5177634fd2490f92924dce56fc326f": {
     "model_module": "@jupyter-widgets/base",
     "model_module_version": "1.2.0",
     "model_name": "LayoutModel",
     "state": {
      "_model_module": "@jupyter-widgets/base",
      "_model_module_version": "1.2.0",
      "_model_name": "LayoutModel",
      "_view_count": null,
      "_view_module": "@jupyter-widgets/base",
      "_view_module_version": "1.2.0",
      "_view_name": "LayoutView",
      "align_content": null,
      "align_items": null,
      "align_self": null,
      "border": null,
      "bottom": null,
      "display": null,
      "flex": null,
      "flex_flow": null,
      "grid_area": null,
      "grid_auto_columns": null,
      "grid_auto_flow": null,
      "grid_auto_rows": null,
      "grid_column": null,
      "grid_gap": null,
      "grid_row": null,
      "grid_template_areas": null,
      "grid_template_columns": null,
      "grid_template_rows": null,
      "height": null,
      "justify_content": null,
      "justify_items": null,
      "left": null,
      "margin": null,
      "max_height": null,
      "max_width": null,
      "min_height": null,
      "min_width": null,
      "object_fit": null,
      "object_position": null,
      "order": null,
      "overflow": null,
      "overflow_x": null,
      "overflow_y": null,
      "padding": null,
      "right": null,
      "top": null,
      "visibility": null,
      "width": null
     }
    },
    "dee7cf1e9c4741cfb7684de668bac0d9": {
     "model_module": "@jupyter-widgets/base",
     "model_module_version": "1.2.0",
     "model_name": "LayoutModel",
     "state": {
      "_model_module": "@jupyter-widgets/base",
      "_model_module_version": "1.2.0",
      "_model_name": "LayoutModel",
      "_view_count": null,
      "_view_module": "@jupyter-widgets/base",
      "_view_module_version": "1.2.0",
      "_view_name": "LayoutView",
      "align_content": null,
      "align_items": null,
      "align_self": null,
      "border": null,
      "bottom": null,
      "display": null,
      "flex": null,
      "flex_flow": null,
      "grid_area": null,
      "grid_auto_columns": null,
      "grid_auto_flow": null,
      "grid_auto_rows": null,
      "grid_column": null,
      "grid_gap": null,
      "grid_row": null,
      "grid_template_areas": null,
      "grid_template_columns": null,
      "grid_template_rows": null,
      "height": null,
      "justify_content": null,
      "justify_items": null,
      "left": null,
      "margin": null,
      "max_height": null,
      "max_width": null,
      "min_height": null,
      "min_width": null,
      "object_fit": null,
      "object_position": null,
      "order": null,
      "overflow": null,
      "overflow_x": null,
      "overflow_y": null,
      "padding": null,
      "right": null,
      "top": null,
      "visibility": null,
      "width": null
     }
    },
    "ef58913bc3ed458da4bb4fa24de89ca4": {
     "model_module": "@jupyter-widgets/controls",
     "model_module_version": "1.5.0",
     "model_name": "ProgressStyleModel",
     "state": {
      "_model_module": "@jupyter-widgets/controls",
      "_model_module_version": "1.5.0",
      "_model_name": "ProgressStyleModel",
      "_view_count": null,
      "_view_module": "@jupyter-widgets/base",
      "_view_module_version": "1.2.0",
      "_view_name": "StyleView",
      "bar_color": null,
      "description_width": ""
     }
    }
   }
  }
 },
 "nbformat": 4,
 "nbformat_minor": 4
}
